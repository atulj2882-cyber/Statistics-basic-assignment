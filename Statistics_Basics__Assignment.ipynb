{
  "nbformat": 4,
  "nbformat_minor": 0,
  "metadata": {
    "colab": {
      "provenance": []
    },
    "kernelspec": {
      "name": "python3",
      "display_name": "Python 3"
    },
    "language_info": {
      "name": "python"
    }
  },
  "cells": [
    {
      "cell_type": "markdown",
      "source": [
        "\n",
        "**Statistics Basics| Assignment**       "
      ],
      "metadata": {
        "id": "OpaKFVQUhmZ7"
      }
    },
    {
      "cell_type": "markdown",
      "source": [
        "Question 1: What is the difference between descriptive statistics and inferential\n",
        "statistics? Explain with examples."
      ],
      "metadata": {
        "id": "I_b_fiUwh20V"
      }
    },
    {
      "cell_type": "markdown",
      "metadata": {
        "id": "58c0b833"
      },
      "source": [
        "\n",
        "\n",
        "**Descriptive Statistics:**\n",
        "\n",
        "Descriptive statistics are used to describe and summarize data. They provide a snapshot of the data's characteristics without making any generalizations or inferences about a larger population. Think of it as describing what you see in the data you have.\n",
        "\n",
        "*   **Examples:**\n",
        "    *   Calculating the average height of students in a classroom.\n",
        "    *   Creating a bar chart to show the frequency of different car colors in a parking lot.\n",
        "    *   Finding the median income of residents in a particular city.\n",
        "    *   Calculating the standard deviation of test scores for a group of students.\n",
        "\n",
        "**Inferential Statistics:**\n",
        "\n",
        "Inferential statistics are used to make inferences and draw conclusions about a larger population based on a sample of data. They involve using probability theory to make predictions or test hypotheses. Think of it as using a small group to learn about a larger group.\n",
        "\n",
        "*   **Examples:**\n",
        "    *   Conducting a poll of a small group of voters to predict the outcome of an election for the entire country.\n",
        "    *   Testing a new drug on a sample of patients to see if it is effective for a larger population with the same condition.\n",
        "    *   Using a sample of customer satisfaction ratings to estimate the overall satisfaction of all customers.\n",
        "    *   Determining if there is a statistically significant difference in test scores between two groups of students who received different teaching methods.\n",
        "\n",
        "In essence, descriptive statistics summarize the data you have, while inferential statistics help you make educated guesses or conclusions about a larger group based on that data."
      ]
    },
    {
      "cell_type": "markdown",
      "source": [
        "Question 2: What is sampling in statistics? Explain the differences between random\n",
        "and stratified sampling."
      ],
      "metadata": {
        "id": "k5Jz50xIjig7"
      }
    },
    {
      "cell_type": "markdown",
      "metadata": {
        "id": "1e8069fc"
      },
      "source": [
        "\n",
        "\n",
        "**Sampling in Statistics:**\n",
        "\n",
        "Sampling is selecting a subset from a larger population to make inferences about the whole population.\n",
        "\n",
        "**Random Sampling:**\n",
        "\n",
        "Every member of the population has an equal chance of being selected. This minimizes bias and helps ensure the sample represents the population.\n",
        "\n",
        "*   **Example:** Picking names randomly from a list of all students in a school.\n",
        "\n",
        "**Stratified Sampling:**\n",
        "\n",
        "The population is divided into subgroups (strata) based on characteristics (e.g., age, gender). A random sample is then taken from each subgroup. This ensures specific subgroups are represented.\n",
        "\n",
        "*   **Example:** Dividing a city's population by age groups and randomly sampling from each group to understand political opinions.\n",
        "\n",
        "**Differences between Random and Stratified Sampling:**\n",
        "\n",
        "| Feature          | Random Sampling                                     | Stratified Sampling                                                              |\n",
        "|------------------|-----------------------------------------------------|----------------------------------------------------------------------------------|\n",
        "| **Population Division** | No subgroups.                                     | Divided into subgroups (strata).                                               |\n",
        "| **Selection**    | Equal chance for all members.                       | Random sampling within each stratum.                                           |\n",
        "| **Purpose**      | Representative sample of the whole population.      | Ensures representation of specific subgroups.                                  |\n",
        "| **Complexity**   | Simpler.                                            | Requires knowledge of population characteristics.                               |\n",
        "| **Use Case**     | Homogeneous populations or no specific subgroups of interest. | Heterogeneous populations or when specific subgroups need representation.        |\n",
        "\n",
        "In short, random sampling is selecting from the whole population randomly, while stratified sampling involves dividing the population into groups and then sampling randomly from each group."
      ]
    },
    {
      "cell_type": "markdown",
      "source": [
        "Question 3: Define mean, median, and mode. Explain why these\n",
        "measures of central tendency are important.  "
      ],
      "metadata": {
        "id": "NYyM_HAuZ1sj"
      }
    },
    {
      "cell_type": "markdown",
      "metadata": {
        "id": "c852a7ae"
      },
      "source": [
        "**Mean:** The average (sum of values / number of values). Affected by outliers.\n",
        "*   **Example:** For the numbers 2, 4, 6, 8, 10, the mean is (2+4+6+8+10)/5 = 6.\n",
        "\n",
        "**Median:** The middle value in an ordered dataset. Not affected by outliers.\n",
        "*   **Example:** For the numbers 2, 4, 6, 8, 10, the median is 6. For 2, 4, 6, 8, the median is (4+6)/2 = 5.\n",
        "\n",
        "**Mode:** The most frequent value in a dataset.\n",
        "*   **Example:** For the numbers 2, 4, 4, 6, 8, the mode is 4. For 2, 4, 6, 8, there is no mode.\n",
        "\n",
        "**Importance:** These measures give a single value representing the center of the data, helping summarize, compare, and understand datasets."
      ]
    },
    {
      "cell_type": "markdown",
      "source": [
        "Question 4: Explain skewness and kurtosis. What does a positive skew imply about the data?"
      ],
      "metadata": {
        "id": "e1B_TynWal3q"
      }
    },
    {
      "cell_type": "markdown",
      "metadata": {
        "id": "9fafdfbf"
      },
      "source": [
        "**Skewness:**\n",
        "\n",
        "Skewness measures the asymmetry of the probability distribution of a real-valued random variable about its mean. In simpler terms, it tells us about the shape of the distribution curve and whether it is skewed to one side or the other compared to a symmetrical distribution like the normal distribution.\n",
        "\n",
        "*   **Positive Skew (Right Skew):** The tail on the right side of the distribution is longer or fatter than the tail on the left side. The mean is typically greater than the median and mode. This indicates that there are some unusually high values in the dataset.\n",
        "\n",
        "*   **Negative Skew (Left Skew):** The tail on the left side of the distribution is longer or fatter than the tail on the right side. The mean is typically less than the median and mode. This indicates that there are some unusually low values in the dataset.\n",
        "\n",
        "*   **Zero Skew:** The distribution is symmetrical. The mean, median, and mode are approximately equal (e.g., a normal distribution).\n",
        "\n",
        "**What does a positive skew imply about the data?**\n",
        "\n",
        "A positive skew implies that the majority of the data points are concentrated on the left side of the distribution, and there are a few larger values that pull the mean to the right. This means that the dataset has an extended tail towards the right.\n",
        "\n",
        "**Kurtosis:**\n",
        "\n",
        "Kurtosis measures the \"tailedness\" of the probability distribution of a real-valued random variable. It describes the shape of the distribution's tails in relation to the tails of a normal distribution. It tells us how much of the variance in the data is due to infrequent extreme observations (outliers).\n",
        "\n",
        "*   **Leptokurtic (Kurtosis > 3):** The distribution has fatter tails and a sharper peak than a normal distribution. This indicates a higher probability of extreme values (outliers).\n",
        "\n",
        "*   **Platykurtic (Kurtosis < 3):** The distribution has thinner tails and a flatter peak than a normal distribution. This indicates a lower probability of extreme values.\n",
        "\n",
        "*   **Mesokurtic (Kurtosis ≈ 3):** The distribution has tails similar to a normal distribution.\n",
        "\n",
        "In summary, skewness describes the asymmetry of the distribution, while kurtosis describes the shape of the tails and the likelihood of outliers."
      ]
    },
    {
      "cell_type": "markdown",
      "source": [
        "Question 5: Implement a Python program to compute the mean, median, and mode of\n",
        "a given list of numbers.\n",
        "\n",
        "numbers = [12, 15, 12, 18, 19, 12, 20, 22, 19, 19, 24, 24, 24, 26, 28]"
      ],
      "metadata": {
        "id": "8A_dF5efcHBI"
      }
    },
    {
      "cell_type": "code",
      "source": [
        "from statistics import mean, median, mode\n",
        "\n",
        "numbers = [12, 15, 12, 18, 19, 12, 20, 22, 19, 19, 24, 24, 24, 26, 28]\n",
        "\n",
        "print(\"Mean:\", mean(numbers))\n",
        "print(\"Median:\", median(numbers))\n",
        "print(\"Mode:\", mode(numbers))\n"
      ],
      "metadata": {
        "colab": {
          "base_uri": "https://localhost:8080/"
        },
        "id": "8qHCc2DGcXQY",
        "outputId": "6c988114-af6a-4a8f-f715-002e6491b1a5"
      },
      "execution_count": 1,
      "outputs": [
        {
          "output_type": "stream",
          "name": "stdout",
          "text": [
            "Mean: 19.6\n",
            "Median: 19\n",
            "Mode: 12\n"
          ]
        }
      ]
    },
    {
      "cell_type": "markdown",
      "source": [
        "Question 6: Compute the covariance and correlation coefficient between the following\n",
        "two datasets provided as lists in Python:\n",
        "\n",
        "list_x = [10, 20, 30, 40, 50]\n",
        "\n",
        "list_y = [15, 25, 35, 45, 60]"
      ],
      "metadata": {
        "id": "byrSXXcBcjie"
      }
    },
    {
      "cell_type": "code",
      "source": [
        "# Import required modules\n",
        "import numpy as np\n",
        "# Given datasets\n",
        "list_x = [10, 20, 30, 40, 50]\n",
        "list_y = [15, 25, 35, 45, 60]\n",
        "# Convert lists to numpy arrays for easier calculations\n",
        "x = np.array(list_x)\n",
        "y = np.array(list_y)\n",
        "# Calculating covariance\n",
        "cov_matrix = np.cov(x, y, bias=False)  # bias=False gives sample covariance\n",
        "cov_xy = cov_matrix[0, 1]\n",
        "# Calculating correlation coefficient\n",
        "corr_matrix = np.corrcoef(x, y)\n",
        "corr_xy = corr_matrix[0, 1]\n",
        "# Displaying results\n",
        "print(\"List X:\", list_x)\n",
        "print(\"List Y:\", list_y)\n",
        "print(\"Covariance:\", cov_xy)\n",
        "print(\"Correlation Coefficient:\", corr_xy)"
      ],
      "metadata": {
        "colab": {
          "base_uri": "https://localhost:8080/"
        },
        "id": "5C-qFwAxcYvX",
        "outputId": "ce7f951c-6c3a-4f54-b676-03d20cef6d9b"
      },
      "execution_count": 6,
      "outputs": [
        {
          "output_type": "stream",
          "name": "stdout",
          "text": [
            "List X: [10, 20, 30, 40, 50]\n",
            "List Y: [15, 25, 35, 45, 60]\n",
            "Covariance: 275.0\n",
            "Correlation Coefficient: 0.995893206467704\n"
          ]
        }
      ]
    },
    {
      "cell_type": "markdown",
      "source": [
        "Question 7: Write a Python script to draw a boxplot for the following numeric list and identify its outliers. Explain the result:\n",
        "\n",
        "data = [12, 14, 14, 15, 18, 19, 19, 21, 22, 22, 23, 23, 24, 26, 29, 35]"
      ],
      "metadata": {
        "id": "P_6AdokmdAiV"
      }
    },
    {
      "cell_type": "code",
      "source": [
        "# Import required libraries\n",
        "import matplotlib.pyplot as plt\n",
        "import numpy as np\n",
        "# Given dataset\n",
        "data = [12, 14, 14, 15, 18, 19, 19, 21, 22, 22, 23, 23, 24, 26, 29, 35]\n",
        "# Creating a boxplot\n",
        "plt.boxplot(data, vert=True, patch_artist=True, notch=True)\n",
        "plt.title(\"Boxplot of Data\")\n",
        "plt.ylabel(\"Values\")\n",
        "plt.show()\n",
        "# Identifying outliers using IQR method\n",
        "Q1 = np.percentile(data, 25)\n",
        "Q3 = np.percentile(data, 75)\n",
        "IQR = Q3 - Q1\n",
        "# Lower and upper bounds\n",
        "lower_bound = Q1 - 1.5 * IQR\n",
        "upper_bound = Q3 + 1.5 * IQR\n",
        "# Detecting outliers\n",
        "outliers = [x for x in data if x < lower_bound or x > upper_bound]\n",
        "print(\"Data:\", data)\n",
        "print(\"Q1 (25th percentile):\", Q1)\n",
        "print(\"Q3 (75th percentile):\", Q3)\n",
        "print(\"Interquartile Range (IQR):\", IQR)\n",
        "print(\"Lower bound:\", lower_bound)\n",
        "print(\"Upper bound:\", upper_bound)\n",
        "print(\"Outliers:\", outliers)"
      ],
      "metadata": {
        "colab": {
          "base_uri": "https://localhost:8080/",
          "height": 574
        },
        "id": "KIdjt9PAcs9A",
        "outputId": "f5b11a0c-3ae9-4800-dbe2-22a103be63ef"
      },
      "execution_count": 7,
      "outputs": [
        {
          "output_type": "display_data",
          "data": {
            "text/plain": [
              "<Figure size 640x480 with 1 Axes>"
            ],
            "image/png": "[encoded data removed]"
          },
          "metadata": {}
        },
        {
          "output_type": "stream",
          "name": "stdout",
          "text": [
            "Data: [12, 14, 14, 15, 18, 19, 19, 21, 22, 22, 23, 23, 24, 26, 29, 35]\n",
            "Q1 (25th percentile): 17.25\n",
            "Q3 (75th percentile): 23.25\n",
            "Interquartile Range (IQR): 6.0\n",
            "Lower bound: 8.25\n",
            "Upper bound: 32.25\n",
            "Outliers: [35]\n"
          ]
        }
      ]
    },
    {
      "cell_type": "markdown",
      "source": [
        "Question 8: You are working as a data analyst in an e-commerce company. The\n",
        "marketing team wants to know if there is a relationship between advertising spend and\n",
        "daily sales.\n",
        "● Explain how you would use covariance and correlation to explore this\n",
        "relationship.\n",
        "● Write Python code to compute the correlation between the two lists:\n",
        "\n",
        "advertising_spend = [200, 250, 300, 400, 500]   \n",
        "daily_sales = [2200, 2450, 2750, 3200, 4000]"
      ],
      "metadata": {
        "id": "9l00J4RkeLwE"
      }
    },
    {
      "cell_type": "markdown",
      "source": [
        "Covariance\n",
        "\n",
        "● Measures how two variables change together.\n",
        "\n",
        "● Positive covariance → as advertising spend increases, sales tend to increase.\n",
        "\n",
        "● Negative covariance → as advertising spend increases, sales tend to decrease.\n",
        "\n",
        "● Covariance magnitude is not standardized, so it’s hard to compare across datasets."
      ],
      "metadata": {
        "id": "EaQ2xcwIeYhX"
      }
    },
    {
      "cell_type": "markdown",
      "source": [
        "Correlation Coefficient (Pearson correlation)\n",
        "\n",
        "● Standardizes covariance to a value between -1 and 1.\n",
        "\n",
        "● Close to 1 → strong positive relationship\n",
        "\n",
        "● Close to -1 → strong negative relationship\n",
        "\n",
        "● Close to 0 → weak or no linear relationship"
      ],
      "metadata": {
        "id": "VwwGh7I9evpW"
      }
    },
    {
      "cell_type": "code",
      "source": [
        "# Import required library\n",
        "import numpy as np\n",
        "# Given data\n",
        "advertising_spend = [200, 250, 300, 400, 500]\n",
        "daily_sales = [2200, 2450, 2750, 3200, 4000]\n",
        "# Convert to numpy arrays\n",
        "x = np.array(advertising_spend)\n",
        "y = np.array(daily_sales)\n",
        "# Compute covariance\n",
        "cov_matrix = np.cov(x, y, bias=False)  # Sample covariance\n",
        "cov_xy = cov_matrix[0, 1]\n",
        "# Compute correlation coefficient\n",
        "corr_matrix = np.corrcoef(x, y)\n",
        "corr_xy = corr_matrix[0, 1]\n",
        "# Display results\n",
        "print(\"Advertising Spend:\", advertising_spend)\n",
        "print(\"Daily Sales:\", daily_sales)\n",
        "print(\"Covariance:\", cov_xy)\n",
        "print(\"Correlation Coefficient:\", corr_xy)"
      ],
      "metadata": {
        "colab": {
          "base_uri": "https://localhost:8080/"
        },
        "id": "AV1vywo_dNzN",
        "outputId": "a171a5e5-ffd7-4a60-8f02-ec2b806e5701"
      },
      "execution_count": 9,
      "outputs": [
        {
          "output_type": "stream",
          "name": "stdout",
          "text": [
            "Advertising Spend: [200, 250, 300, 400, 500]\n",
            "Daily Sales: [2200, 2450, 2750, 3200, 4000]\n",
            "Covariance: 84875.0\n",
            "Correlation Coefficient: 0.9935824101653329\n"
          ]
        }
      ]
    },
    {
      "cell_type": "markdown",
      "source": [
        "Question 9: Your team has collected customer satisfaction survey data on a scale of\n",
        "1-10 and wants to understand its distribution before launching a new product.\n",
        "\n",
        "● Explain which summary statistics and visualizations (e.g. mean, standard\n",
        "deviation, histogram) you’d use.\n",
        "\n",
        "● Write Python code to create a histogram using Matplotlib for the survey data:\n",
        "survey_scores = [7, 8, 5, 9, 6, 7, 8, 9, 10, 4, 7, 6, 9, 8, 7]"
      ],
      "metadata": {
        "id": "C6wm37DsfLF8"
      }
    },
    {
      "cell_type": "markdown",
      "metadata": {
        "id": "abdbf225"
      },
      "source": [
        "To understand the distribution of customer satisfaction survey data, the following summary statistics and visualizations would be useful:\n",
        "\n",
        "**Summary Statistics:**\n",
        "\n",
        "*   **Mean:** Provides the average satisfaction score, giving a central value for the data.\n",
        "*   **Median:** Represents the middle satisfaction score when the data is ordered, useful for understanding the typical score, especially if there are outliers.\n",
        "*   **Mode:** Indicates the most frequent satisfaction score, showing the most common response.\n",
        "*   **Standard Deviation:** Measures the spread or variability of the satisfaction scores around the mean. A higher standard deviation indicates greater variability in responses.\n",
        "*   **Minimum and Maximum:** Show the range of the scores, identifying the lowest and highest satisfaction ratings.\n",
        "\n",
        "**Visualizations:**\n",
        "\n",
        "*   **Histogram:** A bar chart showing the frequency distribution of the survey scores. It helps visualize the shape of the distribution, identify peaks (modes), and see the spread of the data.\n",
        "*   **Boxplot:** Displays the distribution of the scores through quartiles, highlighting the median, the interquartile range (IQR), and potential outliers.\n",
        "*   **Frequency Table:** A table summarizing the count or proportion of each satisfaction score."
      ]
    },
    {
      "cell_type": "code",
      "metadata": {
        "colab": {
          "base_uri": "https://localhost:8080/",
          "height": 541
        },
        "id": "240028b9",
        "outputId": "5d75aa73-e567-48fe-dde3-7d2319d0b916"
      },
      "source": [
        "import matplotlib.pyplot as plt\n",
        "import numpy as np\n",
        "\n",
        "survey_scores = [7, 8, 5, 9, 6, 7, 8, 9, 10, 4, 7, 6, 9, 8, 7]\n",
        "\n",
        "mean_score = np.mean(survey_scores)\n",
        "median_score = np.median(survey_scores)\n",
        "std_dev = np.std(survey_scores, ddof=1)\n",
        "mode_score = max(set(survey_scores), key=survey_scores.count)\n",
        "\n",
        "print(\"Mean:\", mean_score)\n",
        "print(\"Median:\", median_score)\n",
        "print(\"Standard Deviation:\", std_dev)\n",
        "print(\"Mode:\", mode_score)\n",
        "\n",
        "plt.hist(survey_scores, bins=range(4, 12), edgecolor='black', color='skyblue')\n",
        "plt.title(\"Histogram of Customer Satisfaction Scores\")\n",
        "plt.xlabel(\"Survey Scores\")\n",
        "plt.ylabel(\"Frequency\")\n",
        "plt.xticks(range(4, 11))\n",
        "plt.show()\n"
      ],
      "execution_count": 11,
      "outputs": [
        {
          "output_type": "stream",
          "name": "stdout",
          "text": [
            "Mean: 7.333333333333333\n",
            "Median: 7.0\n",
            "Standard Deviation: 1.632993161855452\n",
            "Mode: 7\n"
          ]
        },
        {
          "output_type": "display_data",
          "data": {
            "text/plain": [
              "<Figure size 640x480 with 1 Axes>"
            ],
            "image/png": "[encoded data removed]"
          },
          "metadata": {}
        }
      ]
    }
  ]
}